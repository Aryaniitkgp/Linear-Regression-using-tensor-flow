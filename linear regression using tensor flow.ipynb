{
  "nbformat": 4,
  "nbformat_minor": 0,
  "metadata": {
    "colab": {
      "provenance": [],
      "authorship_tag": "ABX9TyMpFh93nN5oLyDMRBhRlu7O",
      "include_colab_link": true
    },
    "kernelspec": {
      "name": "python3",
      "display_name": "Python 3"
    },
    "language_info": {
      "name": "python"
    }
  },
  "cells": [
    {
      "cell_type": "markdown",
      "metadata": {
        "id": "view-in-github",
        "colab_type": "text"
      },
      "source": [
        "<a href=\"https://colab.research.google.com/github/Aryaniitkgp/Linear-Regression-using-tensor-flow/blob/main/linear%20regression%20using%20tensor%20flow.ipynb\" target=\"_parent\"><img src=\"https://colab.research.google.com/assets/colab-badge.svg\" alt=\"Open In Colab\"/></a>"
      ]
    },
    {
      "cell_type": "code",
      "execution_count": null,
      "metadata": {
        "id": "s-5bCU3u4Sat"
      },
      "outputs": [],
      "source": [
        "import tensorflow as tf\n",
        "import matplotlib.pyplot as plt\n",
        "\n",
        "tf.random.set_seed(42)\n",
        "\n",
        "X = tf.range(-10, 10, 0.5, dtype=tf.float32)\n",
        "X = tf.reshape(X, shape=(-1, 1))\n",
        "y_true = 3 * X + 5 + tf.random.normal(shape=X.shape, stddev=2.0)\n",
        "\n",
        "print(\"Data shape:\")\n",
        "print(\"X:\", X.shape)\n",
        "print(\"y:\", y_true.shape)\n",
        "\n",
        "w = tf.Variable(tf.random.normal(shape=(1, 1)), name='weight')\n",
        "b = tf.Variable(tf.zeros(shape=(1,)), name='bias')\n",
        "\n",
        "print(\"\\nInitial parameters:\")\n",
        "print(\"Weight:\", w.numpy())\n",
        "print(\"Bias:\", b.numpy())\n",
        "\n",
        "def model(X):\n",
        "    return tf.matmul(X, w) + b\n",
        "\n",
        "def loss_fn(y_true, y_pred):\n",
        "    return tf.reduce_mean(tf.square(y_true - y_pred))\n",
        "\n",
        "learning_rate = 0.01\n",
        "\n",
        "def train_step(X, y_true):\n",
        "    with tf.GradientTape() as tape:\n",
        "        y_pred = model(X)\n",
        "        loss = loss_fn(y_true, y_pred)\n",
        "\n",
        "    gradients = tape.gradient(loss, [w, b])\n",
        "\n",
        "    w.assign_sub(learning_rate * gradients[0])\n",
        "    b.assign_sub(learning_rate * gradients[1])\n",
        "\n",
        "    return loss\n",
        "\n",
        "epochs = 100\n",
        "losses = []\n",
        "\n",
        "for epoch in range(epochs):\n",
        "    loss = train_step(X, y_true)\n",
        "    losses.append(loss.numpy())\n",
        "\n",
        "    if epoch % 10 == 0:\n",
        "        print(f\"Epoch {epoch}: Loss = {loss.numpy():.4f}, w = {w.numpy()[0, 0]:.4f}, b = {b.numpy()[0]:.4f}\")\n",
        "\n",
        "print(\"\\nFinal parameters:\")\n",
        "print(\"Weight:\", w.numpy()[0, 0])\n",
        "print(\"Bias:\", b.numpy()[0])\n",
        "print(\"(True weight: 3.0, True bias: 5.0)\")\n",
        "\n",
        "y_pred = model(X)\n",
        "\n",
        "plt.figure(figsize=(12, 4))\n",
        "\n",
        "=plt.subplot(1, 2, 1)\n",
        "plt.scatter(X.numpy(), y_true.numpy(), alpha=0.5, label='True data')\n",
        "plt.plot(X.numpy(), y_pred.numpy(), 'r-', linewidth=2, label='Predictions')\n",
        "plt.xlabel('X')\n",
        "plt.ylabel('y')\n",
        "plt.legend()\n",
        "plt.title('Linear Regression Result')\n",
        "\n",
        "plt.subplot(1, 2, 2)\n",
        "plt.plot(losses)\n",
        "plt.xlabel('Epoch')\n",
        "plt.ylabel('Loss')\n",
        "plt.title('Training Loss')\n",
        "plt.tight_layout()\n",
        "plt.show()"
      ]
    }
  ]
}